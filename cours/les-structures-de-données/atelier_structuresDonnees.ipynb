{
 "cells": [
  {
   "cell_type": "markdown",
   "metadata": {},
   "source": [
    "# Exercice 1: Les dictionnaires\n",
    "\n",
    "## Objectif\n",
    "\n",
    "Vous allez créer un programme pour suivre les populations de différentes espèces d'animaux dans une réserve naturelle. Le programme devra stocker des informations sur les espèces, calculer les changements de population sur une période donnée en fonction de divers taux de croissance, et afficher les résultats.\n",
    "\n",
    "\n",
    "## Instructions\n",
    "\n",
    "1. Stocker les Données :\n",
    "- Créez un dictionnaire pour chaque espèce (4 espèces de votre choix).\n",
    "    - Chaque espèce contient 2 informations:\n",
    "        - `population`\n",
    "        - `taux_croissance ` (en pourcentage annuel) (au moins un taux négatif)\n",
    "- Ajoutez chaque dictionnaire (espèce) à un dictionnaire principal nommé `reserve`.\n",
    "- Affichez votre `réserve` à l'aide de `pprint()`\n",
    "\n",
    "1. Calculer la Population :\n",
    "- Dans une boucle, qui représente les années d'évolution :\n",
    "    - Faites évoluer la population de chaque espèce selon la population et le taux de croissance.\n",
    "    - Affichez l'évolution.\n",
    "    - N'oubliez pas qu'il n'est pas possible d'avoir des fraction d'animaux, ni des nombres négatifs...\n",
    "        - Arrondissez au nombre plancher: `math.floor()`\n"
   ]
  },
  {
   "cell_type": "code",
   "execution_count": null,
   "metadata": {},
   "outputs": [],
   "source": [
    "from pprint import pprint\n",
    "import math\n",
    "\n",
    "# votre code\n"
   ]
  },
  {
   "cell_type": "markdown",
   "metadata": {},
   "source": [
    "# Exercice 2: Les ensembles\n",
    "\n",
    "1. Initialiser une liste vide.\n",
    "1. Dans une boucle, ajoutez 20 nombres aléatoires entre 1 et 20\n",
    "1. Affichez les nombres uniques seulement (c'est-à-dire, affichez tous les nombres, mais une seule fois chacun)\n",
    "    - Exemple: `[1, 2, 3, 3, 2]` ==> devrait afficher seulement 1, 2 et 3.\n"
   ]
  },
  {
   "cell_type": "code",
   "execution_count": null,
   "metadata": {},
   "outputs": [],
   "source": [
    "# votre code"
   ]
  }
 ],
 "metadata": {
  "kernelspec": {
   "display_name": "Python 3",
   "language": "python",
   "name": "python3"
  },
  "language_info": {
   "codemirror_mode": {
    "name": "ipython",
    "version": 3
   },
   "file_extension": ".py",
   "mimetype": "text/x-python",
   "name": "python",
   "nbconvert_exporter": "python",
   "pygments_lexer": "ipython3",
   "version": "3.10.12"
  }
 },
 "nbformat": 4,
 "nbformat_minor": 2
}
