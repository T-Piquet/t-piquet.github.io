{
 "cells": [
  {
   "cell_type": "markdown",
   "metadata": {},
   "source": [
    "### Contexte de l'exercice : Analyse ADN pour la Police Scientifique\n",
    "\n",
    "Vous travaillez pour la division de la police scientifique et votre équipe est en charge d'analyser les preuves ADN collectées sur les scènes de crime. Votre mission est de créer et de corriger des algorithmes qui permettront de vérifier les correspondances ADN pour identifier les suspects potentiels. Vous devez utiliser vos compétences en programmation Python pour résoudre ces problèmes et aider à la résolution des enquêtes."
   ]
  },
  {
   "cell_type": "markdown",
   "metadata": {},
   "source": [
    "#### Exercice 1 : Activation du passe\n",
    "\n",
    "Remettez les lignes de codes suivantes dans l'ordre afin d'activer votre passe.\\\n",
    "Une fois remis dans l'ordre, commentez votre code."
   ]
  },
  {
   "cell_type": "code",
   "execution_count": null,
   "metadata": {},
   "outputs": [],
   "source": [
    "print(\"Passe actif. Accès autorisé.\")\n",
    "if passe_actif:\n",
    "    authentification = int(input(\"Voulez-vous activer votre passe ? 1. pour Oui, 2. pour Non\"))\n",
    "    else:\n",
    "    passe_actif = True\n",
    "    print(\"Passe Inactif, veuillez essayez à nouveau.\")\n",
    "    if authentification == 1:\n",
    "\n",
    "passe_actif = False"
   ]
  },
  {
   "cell_type": "markdown",
   "metadata": {},
   "source": [
    "#### Exercice 2 : Vérification de la séquence ADN\n",
    "\n",
    "Vous avez reçu une séquence ADN d'un échantillon trouvé sur une scène de crime. Vous devez vérifier si cette séquence correspond à une séquence authentique enregistrée dans la base de données de la police. Cette vérification est cruciale pour déterminer si l'échantillon est une preuve valide."
   ]
  },
  {
   "cell_type": "code",
   "execution_count": null,
   "metadata": {},
   "outputs": [],
   "source": [
    "# Séquence d'ADN authentique\n",
    "sequence_authentique = \"AGC\"\n",
    "\n",
    "# Demander à l'utilisateur d'entrer une séquence d'ADN\n",
    "sequence_adn = int(input(\"Entrez la séquence d'ADN : \"))\n",
    "\n",
    "# Vérifier si la séquence est correcte\n",
    "if sequence_adn != sequence_authentique:\n",
    "    print(\"Séquence authentique. Accès autorisé.\")\n",
    "else:\n",
    "    print(\"Séquence non authentique. Accès refusé.\")\n"
   ]
  },
  {
   "cell_type": "markdown",
   "metadata": {},
   "source": [
    "#### Exercice 3 : Validation de profils ADN\n",
    "\n",
    "D'après les vérifications, le suspect numéro 1 correspond au profil. Vous devez comparer les 2 suspects avec l'ADN relevé sur la scène de crime."
   ]
  },
  {
   "cell_type": "code",
   "execution_count": 15,
   "metadata": {},
   "outputs": [],
   "source": [
    "# Séquences d'ADN de la scène de crime\n",
    "adn_scene_crime = \"GATTAC\"\n",
    "\n",
    "# Profils suspects\n",
    "profil_suspect1 = \"GATTAC\"\n",
    "profil_suspect2 = float(\"GATTAG\")\n",
    "\n",
    "# Vérification incorrecte\n",
    "if profil_suspect1 != adn_scene_crime and profil_suspect2 = adn_scene_crime:\n",
    "    \"Suspect 2 retenu. Enquête en cours...!\"\n",
    "elif profil_suspect1 >= adn_scene_crime not and profil_suspect2 == adn_scene_crime\n",
    "    \"Erreur informatique, les 2 ADN correspondent.\"\n",
    "elif profil_suspect1 == adn_scene_crime and profil_suspect < adn_scene_crime:\n",
    "    \"Suspect 1 retenu. Enquête en cours...!\"\n"
   ]
  },
  {
   "cell_type": "markdown",
   "metadata": {},
   "source": [
    "##### Exercice 4\n",
    "\n",
    "Les enquêteurs soupçonne un deuxième suspect. Ils ont besoin de votre expertise afin d'analyser si le relevé obtenu par les analyses sanguines sur la scène de crime correspond à celle de leur base de données.\\\n",
    "Valeur sur le relevé qui sera saisie par l'utilisateur : 840\\\n",
    "Les données suivantes vous sont fournies :"
   ]
  },
  {
   "cell_type": "code",
   "execution_count": 27,
   "metadata": {},
   "outputs": [],
   "source": [
    "# Relevés dans la base de données\n",
    "suspect1 = 100\n",
    "suspect2 = 840\n",
    "suspect3 = 500\n",
    "\n",
    "# Seuil de correspondance\n",
    "seuil = 80.0  # Seuil de correspondance\n"
   ]
  },
  {
   "cell_type": "markdown",
   "metadata": {},
   "source": [
    "1. Saisie du relevé sur la scène de crime\n",
    "\n",
    "Votre programme doit permettre à l'utilisateur de saisir la valeur du relevé trouvé sur la scène de crime."
   ]
  },
  {
   "cell_type": "code",
   "execution_count": null,
   "metadata": {},
   "outputs": [],
   "source": [
    "#\n",
    "# Votre code ici\n",
    "#"
   ]
  },
  {
   "cell_type": "markdown",
   "metadata": {},
   "source": [
    "2. Calcul du pourcentage de correspondance\n",
    "\n",
    "Calculez le pourcentage de correspondance pour chaque suspect par rapport à la valeur maximale possible (1000 dans cet exemple)."
   ]
  },
  {
   "cell_type": "code",
   "execution_count": 29,
   "metadata": {},
   "outputs": [],
   "source": [
    "#\n",
    "# Votre code ici\n",
    "#"
   ]
  },
  {
   "cell_type": "markdown",
   "metadata": {},
   "source": [
    "3. Affichage des résultats\n",
    "\n",
    "Affichez les pourcentages de correspondance pour chaque suspect."
   ]
  },
  {
   "cell_type": "code",
   "execution_count": null,
   "metadata": {},
   "outputs": [],
   "source": [
    "#\n",
    "# Votre code ici\n",
    "#"
   ]
  },
  {
   "cell_type": "markdown",
   "metadata": {},
   "source": [
    "4. Vérification des résultats\n",
    "\n",
    "Vérifiez si l'un des pourcentages dépasse le seuil. Affichez un message indiquant si la séquence du relevé correspond à l'une des séquences des suspects dans la base de données."
   ]
  },
  {
   "cell_type": "code",
   "execution_count": null,
   "metadata": {},
   "outputs": [],
   "source": [
    "#\n",
    "# Votre code ici\n",
    "#"
   ]
  }
 ],
 "metadata": {
  "kernelspec": {
   "display_name": "Python 3",
   "language": "python",
   "name": "python3"
  },
  "language_info": {
   "codemirror_mode": {
    "name": "ipython",
    "version": 3
   },
   "file_extension": ".py",
   "mimetype": "text/x-python",
   "name": "python",
   "nbconvert_exporter": "python",
   "pygments_lexer": "ipython3",
   "version": "3.11.9"
  }
 },
 "nbformat": 4,
 "nbformat_minor": 2
}
