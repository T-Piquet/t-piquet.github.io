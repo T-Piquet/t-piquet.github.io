{
 "cells": [
  {
   "cell_type": "markdown",
   "metadata": {},
   "source": [
    "### Contexte de l'exercice : Analyse ADN pour la Police Scientifique\n",
    "\n",
    "Vous travaillez pour la division de la police scientifique et votre équipe est en charge d'analyser les preuves ADN collectées sur les scènes de crime. Votre mission est de créer et de corriger des algorithmes qui permettront de vérifier les correspondances ADN pour identifier les suspects potentiels. Vous devez utiliser vos compétences en programmation Python pour résoudre ces problèmes et aider à la résolution des enquêtes."
   ]
  },
  {
   "cell_type": "markdown",
   "metadata": {},
   "source": [
    "#### Exercice 1 : Activation du passe\n",
    "\n",
    "Remettez les lignes de codes suivantes dans l'ordre afin d'activer votre passe.\\\n",
    "Une fois remis dans l'ordre, commentez votre code."
   ]
  },
  {
   "cell_type": "code",
   "execution_count": 1,
   "metadata": {},
   "outputs": [
    {
     "name": "stdout",
     "output_type": "stream",
     "text": [
      "Passe actif. Accès autorisé.\n"
     ]
    }
   ],
   "source": [
    "# Correction\n",
    "\n",
    "# Initialiser de l'état du passe\n",
    "passe_actif = False\n",
    "\n",
    "# Saisir le code pour activer le passe\n",
    "authentification = int(input(\"Voulez-vous activer votre passe ? 1. pour Oui, 2. pour Non\"))\n",
    "\n",
    "# Si l'utilisateur saisie 1, alors l'état du passe devient actif\n",
    "if authentification == 1:\n",
    "    passe_actif = True\n",
    "\n",
    "# Affichage du message en fonction de l'état du passe\n",
    "if passe_actif:\n",
    "    print(\"Passe actif. Accès autorisé.\")\n",
    "else:\n",
    "    print(\"Passe Inactif, veuillez essayez à nouveau.\")"
   ]
  },
  {
   "cell_type": "markdown",
   "metadata": {},
   "source": [
    "#### Exercice 2 : Vérification de la séquence ADN\n",
    "\n",
    "Vous avez reçu une séquence ADN d'un échantillon trouvé sur une scène de crime. Vous devez vérifier si cette séquence correspond à une séquence authentique enregistrée dans la base de données de la police. Cette vérification est cruciale pour déterminer si l'échantillon est une preuve valide."
   ]
  },
  {
   "cell_type": "code",
   "execution_count": 2,
   "metadata": {},
   "outputs": [
    {
     "name": "stdout",
     "output_type": "stream",
     "text": [
      "Séquence authentique. Accès autorisé.\n"
     ]
    }
   ],
   "source": [
    "# Correction\n",
    "\n",
    "# Séquence d'ADN authentique\n",
    "sequence_authentique = \"AGC\"\n",
    "\n",
    "# Demander à l'utilisateur d'entrer une séquence d'ADN\n",
    "sequence_adn = str(input(\"Entrez la séquence d'ADN : \"))\n",
    "\n",
    "# Vérifier si la séquence est correcte\n",
    "if sequence_adn == sequence_authentique:\n",
    "    print(\"Séquence authentique. Accès autorisé.\")\n",
    "else:\n",
    "    print(\"Séquence non authentique. Accès refusé.\")"
   ]
  },
  {
   "cell_type": "markdown",
   "metadata": {},
   "source": [
    "#### Exercice 3 : Validation de profils ADN\n",
    "\n",
    "D'après les vérifications, le suspect numéro 1 correspond au profil. Vous devez comparer les 2 suspects avec l'ADN relevé sur la scène de crime."
   ]
  },
  {
   "cell_type": "code",
   "execution_count": 3,
   "metadata": {},
   "outputs": [
    {
     "name": "stdout",
     "output_type": "stream",
     "text": [
      "Suspect 1 retenu. Enquête en cours...!\n"
     ]
    }
   ],
   "source": [
    "# Correction\n",
    "\n",
    "# Séquences d'ADN de la scène de crime\n",
    "adn_scene_crime = \"GATTAC\"\n",
    "\n",
    "# Profils suspects\n",
    "profil_suspect1 = \"GATTAC\"\n",
    "profil_suspect2 = \"GATTAG\"\n",
    "\n",
    "# Vérification incorrecte\n",
    "if profil_suspect1 != adn_scene_crime and profil_suspect2 == adn_scene_crime:\n",
    "    print(\"Suspect 2 retenu. Enquête en cours...!\")\n",
    "elif profil_suspect1 == adn_scene_crime and profil_suspect2 == adn_scene_crime:\n",
    "    print(\"Erreur informatique, les 2 ADN correspondent.\")\n",
    "elif profil_suspect1 == adn_scene_crime and profil_suspect2 != adn_scene_crime:\n",
    "    print(\"Suspect 1 retenu. Enquête en cours...!\")"
   ]
  },
  {
   "cell_type": "markdown",
   "metadata": {},
   "source": [
    "##### Exercice 4\n",
    "\n",
    "Les enquêteurs soupçonne un deuxième suspect. Ils ont besoin de votre expertise afin d'analyser si le relevé obtenu par les analyses sanguines sur la scène de crime correspond à celle de leur base de données.\\\n",
    "Valeur sur le relevé qui sera saisie par l'utilisateur : 840\\\n",
    "Les données suivantes vous sont fournies :"
   ]
  },
  {
   "cell_type": "code",
   "execution_count": 4,
   "metadata": {},
   "outputs": [],
   "source": [
    "# Relevés dans la base de données\n",
    "suspect1 = 100\n",
    "suspect2 = 840\n",
    "suspect3 = 500\n",
    "\n",
    "# Seuil de correspondance\n",
    "seuil = 80.0  # Seuil de correspondance"
   ]
  },
  {
   "cell_type": "markdown",
   "metadata": {},
   "source": [
    "1. Saisie du relevé sur la scène de crime\n",
    "\n",
    "Votre programme doit permettre à l'utilisateur de saisir la valeur du relevé trouvé sur la scène de crime."
   ]
  },
  {
   "cell_type": "code",
   "execution_count": 5,
   "metadata": {},
   "outputs": [],
   "source": [
    "# Correction\n",
    "\n",
    "# Saisie du relevé sur la scène de crime\n",
    "releve_scene_crime = int(input(\"Veuillez saisir le relevé : \"))"
   ]
  },
  {
   "cell_type": "markdown",
   "metadata": {},
   "source": [
    "2. Calcul du pourcentage de correspondance\n",
    "\n",
    "Calculez le pourcentage de correspondance pour chaque suspect par rapport à la valeur maximale possible (1000 dans cet exemple)."
   ]
  },
  {
   "cell_type": "code",
   "execution_count": 6,
   "metadata": {},
   "outputs": [],
   "source": [
    "# Correction\n",
    "\n",
    "# Calcul du pourcentage\n",
    "pourcentage1 = suspect1 / 1000 * 100\n",
    "pourcentage2 = suspect2 / 1000 * 100\n",
    "pourcentage3 = suspect3 / 1000 * 100"
   ]
  },
  {
   "cell_type": "markdown",
   "metadata": {},
   "source": [
    "3. Affichage des résultats\n",
    "\n",
    "Affichez les pourcentages de correspondance pour chaque suspect."
   ]
  },
  {
   "cell_type": "code",
   "execution_count": 7,
   "metadata": {},
   "outputs": [
    {
     "name": "stdout",
     "output_type": "stream",
     "text": [
      "Pourcentage de correspondance avec le relevé base 1 :  10.0 %\n",
      "Pourcentage de correspondance avec le relevé base 2 :  84.0 %\n",
      "Pourcentage de correspondance avec le relevé base 3 :  50.0 %\n"
     ]
    }
   ],
   "source": [
    "# Correction\n",
    "\n",
    "# Affichage de chaque pourcentage\n",
    "print(\"Pourcentage de correspondance avec le relevé base 1 :\", pourcentage1, \"%\")\n",
    "print(\"Pourcentage de correspondance avec le relevé base 2 :\", pourcentage2, \"%\")\n",
    "print(\"Pourcentage de correspondance avec le relevé base 3 :\", pourcentage3, \"%\")"
   ]
  },
  {
   "cell_type": "markdown",
   "metadata": {},
   "source": [
    "4. Vérification des résultats\n",
    "\n",
    "Vérifiez si l'un des pourcentages dépasse le seuil. Affichez un message indiquant si la séquence du relevé correspond à l'une des séquences des suspects dans la base de données."
   ]
  },
  {
   "cell_type": "code",
   "execution_count": 8,
   "metadata": {},
   "outputs": [
    {
     "name": "stdout",
     "output_type": "stream",
     "text": [
      "Le relevé de la scène de crime correspond au relevé base 2.\n"
     ]
    }
   ],
   "source": [
    "# Correction\n",
    "\n",
    "# Tester les différentes valeurs pour afficher quel est le suspect qui correspond au valeur relevé sur la scène du crime.\n",
    "if pourcentage1 >= seuil:\n",
    "    print(\"Le relevé de la scène de crime correspond au relevé base 1.\")\n",
    "elif pourcentage2 >= seuil:\n",
    "    print(\"Le relevé de la scène de crime correspond au relevé base 2.\")\n",
    "elif pourcentage3 >= seuil:\n",
    "    print(\"Le relevé de la scène de crime correspond au relevé base 3.\")\n",
    "else:\n",
    "    print(\"La séquence d'ADN ne correspond à aucune séquence dans la base de données.\")"
   ]
  }
 ],
 "metadata": {
  "kernelspec": {
   "display_name": "Python 3",
   "language": "python",
   "name": "python3"
  },
  "language_info": {
   "codemirror_mode": {
    "name": "ipython",
    "version": 3
   },
   "file_extension": ".py",
   "mimetype": "text/x-python",
   "name": "python",
   "nbconvert_exporter": "python",
   "pygments_lexer": "ipython3",
   "version": "3.11.9"
  }
 },
 "nbformat": 4,
 "nbformat_minor": 2
}
