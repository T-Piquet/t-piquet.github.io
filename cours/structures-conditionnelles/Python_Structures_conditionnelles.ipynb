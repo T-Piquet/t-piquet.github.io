{
 "cells": [
  {
   "cell_type": "markdown",
   "metadata": {},
   "source": [
    "### Semaine 4"
   ]
  },
  {
   "cell_type": "markdown",
   "metadata": {},
   "source": [
    "### <u>Exemple 1 : Mineur ou majeur ?"
   ]
  },
  {
   "cell_type": "code",
   "execution_count": null,
   "metadata": {},
   "outputs": [],
   "source": [
    "age = int(input(\"Saisir votre âge : \"))\n",
    "\n",
    "# Nous testons l'âge à partir de la valeur saisie par l'utilisateur\n",
    "# Nous pouvons noter dans cet exemple la \"condition\" qui permet de définir, grâce à l'age, si un personne est majeure ou mineure.\n",
    "if age >= 18:\n",
    "    print(\"Vous êtes majeur(e).\")\n",
    "else:\n",
    "    print(\"Vous êtes mineur(e).\")"
   ]
  },
  {
   "cell_type": "markdown",
   "metadata": {},
   "source": [
    "### <u>Exemple 2 : Support, Top, Mid, ADC ou Jungle ?"
   ]
  },
  {
   "cell_type": "code",
   "execution_count": null,
   "metadata": {},
   "outputs": [],
   "source": [
    "print(\"1. Support\")\n",
    "print(\"2. Top\")\n",
    "print(\"3. Mid\")\n",
    "print(\"4. ADC\")\n",
    "print(\"5. Jungle\")\n",
    "\n",
    "position = int(input(\"Choisissez votre position : \"))\n",
    "\n",
    "if(position == 1):\n",
    "    print(\"Vous êtes Support\")\n",
    "elif(position == 2):\n",
    "    print(\"Vous êtes Top\")\n",
    "elif(position == 3):\n",
    "    print(\"Vous êtes Mid\")\n",
    "elif(position == 4):\n",
    "    print(\"Vous êtes ADC\")\n",
    "else:\n",
    "    print(\"Vous êtes Jungle\")\n",
    "\n",
    "print(\"Bienvenue dans la faille de l'invocateur !\")\n",
    "print(\"Des sbires sont apparus.\")"
   ]
  },
  {
   "cell_type": "markdown",
   "metadata": {},
   "source": []
  }
 ],
 "metadata": {
  "kernelspec": {
   "display_name": "Python 3",
   "language": "python",
   "name": "python3"
  },
  "language_info": {
   "codemirror_mode": {
    "name": "ipython",
    "version": 3
   },
   "file_extension": ".py",
   "mimetype": "text/x-python",
   "name": "python",
   "nbconvert_exporter": "python",
   "pygments_lexer": "ipython3",
   "version": "3.11.9"
  }
 },
 "nbformat": 4,
 "nbformat_minor": 2
}
