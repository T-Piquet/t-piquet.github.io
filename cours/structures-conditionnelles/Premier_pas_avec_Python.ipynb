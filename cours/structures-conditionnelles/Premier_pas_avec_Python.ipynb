{
 "cells": [
  {
   "cell_type": "markdown",
   "id": "178a9289",
   "metadata": {},
   "source": [
    "# **Premier pas avec Python**"
   ]
  },
  {
   "cell_type": "markdown",
   "id": "f0549af3",
   "metadata": {},
   "source": [
    "Dans cette série de questions, vous allez pouvoir pratiquer les éléments vus dans le cours en rapport avec les bases de python.\n",
    "\n",
    "N’oubliez pas que les noms de variables ne doivent ni avoir d’accent ni de caractère spécial. Vous devez utiliser uniquement des valeurs comprises entre [0-9], [a-z] et [A-Z]."
   ]
  },
  {
   "cell_type": "markdown",
   "id": "785b3f4c",
   "metadata": {},
   "source": [
    "### **Exercice 1 : Affectation de variables, affichage et typage de données**"
   ]
  },
  {
   "cell_type": "markdown",
   "id": "cccbda18",
   "metadata": {},
   "source": [
    "##### a) Affectez votre prénom sous la forme d’une chaîne de caractères dans une variable que vous appellerez prenom."
   ]
  },
  {
   "cell_type": "code",
   "execution_count": 3,
   "id": "9f88864a",
   "metadata": {},
   "outputs": [],
   "source": [
    "# Votre code ici\n"
   ]
  },
  {
   "cell_type": "markdown",
   "id": "c36459a9",
   "metadata": {},
   "source": [
    "##### b) Affichez le résultat."
   ]
  },
  {
   "cell_type": "code",
   "execution_count": 4,
   "id": "8a3f3ffd",
   "metadata": {},
   "outputs": [],
   "source": [
    "# Votre code ici\n"
   ]
  },
  {
   "cell_type": "markdown",
   "id": "23ea02d3",
   "metadata": {},
   "source": [
    "##### c) Quel est le type de la variable ?"
   ]
  },
  {
   "cell_type": "code",
   "execution_count": null,
   "id": "67932664",
   "metadata": {},
   "outputs": [],
   "source": [
    "# Votre code ici\n"
   ]
  },
  {
   "cell_type": "markdown",
   "id": "ecc1eeb6",
   "metadata": {},
   "source": [
    "##### d) Affectez votre âge sous la forme d’un entier (integer) dans une variable que vous nommerez age."
   ]
  },
  {
   "cell_type": "code",
   "execution_count": null,
   "id": "c01edf1b",
   "metadata": {},
   "outputs": [],
   "source": [
    "# Votre code ici\n"
   ]
  },
  {
   "cell_type": "markdown",
   "id": "b82bff6f",
   "metadata": {},
   "source": [
    "##### e) Affichez le résultat."
   ]
  },
  {
   "cell_type": "code",
   "execution_count": null,
   "id": "6797f37c",
   "metadata": {},
   "outputs": [],
   "source": [
    "# Votre code ici\n"
   ]
  },
  {
   "cell_type": "markdown",
   "id": "10116230",
   "metadata": {},
   "source": [
    "##### f) Quel est le type de la variable ? (dans cet exemple, le type de la variable doit être de type entier, c'est-à-dire integer)"
   ]
  },
  {
   "cell_type": "code",
   "execution_count": 5,
   "id": "a94938d6",
   "metadata": {},
   "outputs": [],
   "source": [
    "# Votre code ici\n"
   ]
  },
  {
   "cell_type": "markdown",
   "id": "ea747c38",
   "metadata": {},
   "source": [
    "##### g) Affectez la valeur 38.58 à une variable nommée decimal."
   ]
  },
  {
   "cell_type": "code",
   "execution_count": null,
   "id": "42ab5283",
   "metadata": {},
   "outputs": [],
   "source": [
    "# Votre code ici\n"
   ]
  },
  {
   "cell_type": "markdown",
   "id": "ac1e23cc",
   "metadata": {},
   "source": [
    "##### h) Affichez le résultat."
   ]
  },
  {
   "cell_type": "code",
   "execution_count": null,
   "id": "a4194db1",
   "metadata": {},
   "outputs": [],
   "source": [
    "# Votre code ici\n"
   ]
  },
  {
   "cell_type": "markdown",
   "id": "3daf47b8",
   "metadata": {},
   "source": [
    "##### i) Quel est le type de la variable ?"
   ]
  },
  {
   "cell_type": "code",
   "execution_count": null,
   "id": "16c2fd44",
   "metadata": {},
   "outputs": [],
   "source": [
    "# Votre code ici\n"
   ]
  },
  {
   "cell_type": "markdown",
   "id": "1d58a92e",
   "metadata": {},
   "source": [
    "##### j) En utilisant la technique du transtypage, affichez la variable decimal sous la forme d’un integer. Que se passe-t-il ?"
   ]
  },
  {
   "cell_type": "code",
   "execution_count": 6,
   "id": "097cd9a3",
   "metadata": {},
   "outputs": [],
   "source": [
    "# Votre code ici\n"
   ]
  },
  {
   "cell_type": "markdown",
   "id": "947ff486",
   "metadata": {},
   "source": [
    "### **Exercice 2 : Opérations élémentaires**"
   ]
  },
  {
   "cell_type": "markdown",
   "id": "13573b40",
   "metadata": {},
   "source": [
    "##### a) Donnez la valeur 5 à une variable nommée nombre1."
   ]
  },
  {
   "cell_type": "code",
   "execution_count": null,
   "id": "eda9bb45",
   "metadata": {},
   "outputs": [],
   "source": [
    "# Votre code ici\n"
   ]
  },
  {
   "cell_type": "markdown",
   "id": "9916ada1",
   "metadata": {},
   "source": [
    "##### b) Multipliez la variable nombre1 par 2. Vous stockerez le résultat dans cette même variable."
   ]
  },
  {
   "cell_type": "code",
   "execution_count": null,
   "id": "104315e2",
   "metadata": {},
   "outputs": [],
   "source": [
    "# Votre code ici\n"
   ]
  },
  {
   "cell_type": "markdown",
   "id": "997c0a09",
   "metadata": {},
   "source": [
    "##### c) Affichez le résultat. Vous devez obtenir 10."
   ]
  },
  {
   "cell_type": "code",
   "execution_count": null,
   "id": "a8aa9da3",
   "metadata": {},
   "outputs": [],
   "source": [
    "# Votre code ici\n"
   ]
  },
  {
   "cell_type": "markdown",
   "id": "f3dbc32d",
   "metadata": {},
   "source": [
    "##### d) Stockez la valeur de 3 dans une variable nombre2."
   ]
  },
  {
   "cell_type": "code",
   "execution_count": null,
   "id": "67fd1289",
   "metadata": {},
   "outputs": [],
   "source": [
    "# Votre code ici\n"
   ]
  },
  {
   "cell_type": "markdown",
   "id": "84b67042",
   "metadata": {},
   "source": [
    "##### e) A partir des variables nombre1 et nombre2, effectuez les opérations suivantes que vous stockerez dans la variable resultat :\n",
    "##### i. Utilisez / pour effectuer la division réelle. Affichez le résultat. Quel est le type de la variable ?"
   ]
  },
  {
   "cell_type": "code",
   "execution_count": null,
   "id": "d3e503ec",
   "metadata": {},
   "outputs": [],
   "source": [
    "# Votre code ici\n"
   ]
  },
  {
   "cell_type": "markdown",
   "id": "4015a310",
   "metadata": {},
   "source": [
    "##### ii. Utilisez // pour effectuer la division entière. Affichez le résultat. Quel est le type de la variable ?"
   ]
  },
  {
   "cell_type": "code",
   "execution_count": null,
   "id": "e2a809c8",
   "metadata": {},
   "outputs": [],
   "source": [
    "# Votre code ici\n"
   ]
  },
  {
   "cell_type": "markdown",
   "id": "18fdc83a",
   "metadata": {},
   "source": [
    "##### iii. Utilisez % pour calculer le modulo (le reste) de la division. Affichez le résultat."
   ]
  },
  {
   "cell_type": "code",
   "execution_count": null,
   "id": "a49cdb22",
   "metadata": {},
   "outputs": [],
   "source": [
    "# Votre code ici\n"
   ]
  },
  {
   "cell_type": "markdown",
   "id": "be6ca761",
   "metadata": {},
   "source": [
    "##### iv. Utilisez ** pour calculer nombre1 à la puissance nombre2. Affichez le résultat."
   ]
  },
  {
   "cell_type": "code",
   "execution_count": null,
   "id": "52340ab9",
   "metadata": {},
   "outputs": [],
   "source": [
    "# Votre code ici\n"
   ]
  },
  {
   "cell_type": "markdown",
   "id": "5bdbfd3b",
   "metadata": {},
   "source": [
    "### **Exercice 3 : Saisie de valeur par un utilisateur**"
   ]
  },
  {
   "cell_type": "markdown",
   "id": "ab8fbae5",
   "metadata": {},
   "source": [
    "##### a) Demandez à l’utilisateur de saisir une chaîne de caractères (str) en posant la question suivante :  « Quel jour sommes-nous aujourd’hui ? ». Vous stockerez le résultat dans une variable nommée jour. Affichez le résultat."
   ]
  },
  {
   "cell_type": "code",
   "execution_count": null,
   "id": "d3e81251",
   "metadata": {},
   "outputs": [],
   "source": [
    "# Votre code ici\n"
   ]
  },
  {
   "cell_type": "markdown",
   "id": "9767a6fc",
   "metadata": {},
   "source": [
    "##### b) Demandez à un utilisateur de saisir un nombre de type entier (int) en lui posant la question suivante : « Quel numéro de jour sommes-nous aujourd’hui ? ». Vous stockerez le résultat dans une variable nommée numero_jour. Affichez le résultat."
   ]
  },
  {
   "cell_type": "code",
   "execution_count": null,
   "id": "cf5a9bfa",
   "metadata": {},
   "outputs": [],
   "source": [
    "# Votre code ici\n"
   ]
  },
  {
   "cell_type": "markdown",
   "id": "f5c54ae3",
   "metadata": {},
   "source": [
    "##### c) Demandez à un utilisateur de saisir un nombre de type décimal (float) avec la question suivante : « Quelle est la température aujourd’hui ? ». Vous donnerez le résultat au 1/10ème près. Vous stockerez le résultat dans une variable nommée temperature. Affichez le résultat."
   ]
  },
  {
   "cell_type": "code",
   "execution_count": null,
   "id": "c5ddb295",
   "metadata": {},
   "outputs": [],
   "source": [
    "# Votre code ici\n"
   ]
  },
  {
   "cell_type": "markdown",
   "id": "bfb1f0f6",
   "metadata": {},
   "source": [
    "##### d) Pour finir, affichez une seule phrase qui donne le jour, le numero_jour et la temperature."
   ]
  },
  {
   "cell_type": "code",
   "execution_count": null,
   "id": "324609cd",
   "metadata": {},
   "outputs": [],
   "source": [
    "# Votre code ici\n"
   ]
  }
 ],
 "metadata": {
  "kernelspec": {
   "display_name": "Python 3",
   "language": "python",
   "name": "python3"
  },
  "language_info": {
   "codemirror_mode": {
    "name": "ipython",
    "version": 3
   },
   "file_extension": ".py",
   "mimetype": "text/x-python",
   "name": "python",
   "nbconvert_exporter": "python",
   "pygments_lexer": "ipython3",
   "version": "3.11.9"
  }
 },
 "nbformat": 4,
 "nbformat_minor": 5
}
