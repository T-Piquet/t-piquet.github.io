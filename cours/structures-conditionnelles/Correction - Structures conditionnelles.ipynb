{
 "cells": [
  {
   "cell_type": "markdown",
   "metadata": {},
   "source": [
    "## Correction - Structures conditionnelles"
   ]
  },
  {
   "cell_type": "markdown",
   "metadata": {},
   "source": [
    "#### 1. Adhérent ou non adhérent au programme ?"
   ]
  },
  {
   "cell_type": "code",
   "execution_count": null,
   "metadata": {},
   "outputs": [],
   "source": [
    "# Exercice 1 : Adhérent ou non adhérent au programme\n",
    "code = int(input(\"Saisissez un code (1 ou 2) : \"))\n",
    "if code == 1:\n",
    "    print(\"Je suis adhérent\")\n",
    "else:\n",
    "    print(\"Je ne suis pas adhérent\")"
   ]
  },
  {
   "cell_type": "markdown",
   "metadata": {},
   "source": [
    "#### 2. Quel est le nombre le plus grand ?"
   ]
  },
  {
   "cell_type": "code",
   "execution_count": null,
   "metadata": {},
   "outputs": [],
   "source": [
    "# Exercice 2 : Quel est le nombre le plus grand ?\n",
    "nombre1 = int(input(\"Saisissez le premier nombre : \"))\n",
    "nombre2 = int(input(\"Saisissez le deuxième nombre : \"))\n",
    "if nombre1 > nombre2:\n",
    "    print(f\"Le nombre le plus grand est : {nombre1}\")\n",
    "elif nombre2 > nombre1:\n",
    "    print(f\"Le nombre le plus grand est : {nombre2}\")\n",
    "else:\n",
    "    print(\"Les deux nombres sont égaux\")"
   ]
  },
  {
   "cell_type": "markdown",
   "metadata": {},
   "source": [
    "#### 3. A quelle catégorie appartient l’âge saisi ?"
   ]
  },
  {
   "cell_type": "code",
   "execution_count": null,
   "metadata": {},
   "outputs": [],
   "source": [
    "# Exercice 3 : À quelle catégorie appartient l’âge saisi ?\n",
    "age = int(input(\"Saisissez votre âge : \"))\n",
    "if age < 14:\n",
    "    print(\"Je suis un enfant\")\n",
    "elif 14 <= age <= 18:\n",
    "    print(\"Je suis un adolescent\")\n",
    "elif 19 <= age <= 65:\n",
    "    print(\"Je suis un adulte\")\n",
    "else:\n",
    "    print(\"Je suis un sénior\")"
   ]
  },
  {
   "cell_type": "markdown",
   "metadata": {},
   "source": [
    "#### 4. Gestion des émotions"
   ]
  },
  {
   "cell_type": "code",
   "execution_count": null,
   "metadata": {},
   "outputs": [],
   "source": [
    "# Exercice 4 : Gestion des émotions\n",
    "emotion = input(\"Saisissez une émotion (heureux, triste, fatigué, colère) : \").lower()\n",
    "if emotion == \"heureux\":\n",
    "    print(\"Je suis heureux dans le cours de programmation !\")\n",
    "elif emotion == \"triste\":\n",
    "    print(\"Je suis triste dans le cours de programmation.\")\n",
    "elif emotion == \"fatigué\":\n",
    "    print(\"Je suis fatigué dans le cours de programmation.\")\n",
    "elif emotion == \"colère\":\n",
    "    print(\"Je suis en colère dans le cours de programmation.\")\n",
    "else:\n",
    "    print(\"Emotion inconnue\")"
   ]
  },
  {
   "cell_type": "markdown",
   "metadata": {},
   "source": [
    "#### 5. Est-ce un nombre pair ou impair ?"
   ]
  },
  {
   "cell_type": "code",
   "execution_count": null,
   "metadata": {},
   "outputs": [],
   "source": [
    "# Exercice 5 : Est-ce un nombre pair ou impair ?\n",
    "nombre = int(input(\"Saisissez un nombre : \"))\n",
    "if nombre % 2 == 0:\n",
    "    print(f\"{nombre} est un nombre pair\")\n",
    "else:\n",
    "    print(f\"{nombre} est un nombre impair\")"
   ]
  },
  {
   "cell_type": "markdown",
   "metadata": {},
   "source": [
    "#### 6. -20% pour les étudiant(e)s !!!"
   ]
  },
  {
   "cell_type": "code",
   "execution_count": null,
   "metadata": {},
   "outputs": [],
   "source": [
    "# Exercice 6 : -20% pour les étudiant(e)s !!!\n",
    "etudiant = input(\"Êtes-vous étudiant(e) ? (oui ou non) : \").lower()\n",
    "prix = float(input(\"Saisissez le prix : \"))\n",
    "if etudiant == \"oui\":\n",
    "    prix_final = prix * 0.8\n",
    "else:\n",
    "    prix_final = prix\n",
    "print(f\"Le prix final est : {prix_final}\")"
   ]
  },
  {
   "cell_type": "markdown",
   "metadata": {},
   "source": [
    "#### 7. Année bissextile"
   ]
  },
  {
   "cell_type": "code",
   "execution_count": 1,
   "metadata": {},
   "outputs": [],
   "source": [
    "# Exercice 7 : Année bissextile\n",
    "annee = int(input(\"Saisissez une année : \"))\n",
    "if (annee % 4 == 0 and annee % 100 != 0) or (annee % 400 == 0):\n",
    "    print(f\"{annee} est une année bissextile\")\n",
    "else:\n",
    "    print(f\"{annee} n'est pas une année bissextile\")"
   ]
  },
  {
   "cell_type": "code",
   "execution_count": null,
   "metadata": {},
   "outputs": [],
   "source": []
  }
 ],
 "metadata": {
  "kernelspec": {
   "display_name": "Python 3",
   "language": "python",
   "name": "python3"
  },
  "language_info": {
   "codemirror_mode": {
    "name": "ipython",
    "version": 3
   },
   "file_extension": ".py",
   "mimetype": "text/x-python",
   "name": "python",
   "nbconvert_exporter": "python",
   "pygments_lexer": "ipython3",
   "version": "3.11.9"
  }
 },
 "nbformat": 4,
 "nbformat_minor": 2
}
